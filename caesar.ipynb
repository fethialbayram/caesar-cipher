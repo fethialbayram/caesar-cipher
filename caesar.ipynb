{
 "cells": [
  {
   "cell_type": "code",
   "execution_count": null,
   "id": "1c61529d-76fc-4d9c-ae29-53b0b23e0c83",
   "metadata": {},
   "outputs": [],
   "source": [
    "import sys\n",
    "from colorama import Fore, init\n",
    "\n",
    "init() # for the colored text\n",
    "\n",
    "def caesar_cipher(text,shift):\n",
    "    '''\n",
    "    text: the text to be encrypted\n",
    "    shift: number of shifts\n",
    "    return: encrypted text\n",
    "    '''\n",
    "    encrypted_text=\"\"\n",
    "    for char in text:\n",
    "        if char.isalpha():\n",
    "            base = ord('a') if char.islower() else ord('A') \n",
    "            shifted_char = chr((ord(char) - base + shift) % 26 + base) # calculating the char's new order\n",
    "            encrypted_text += shifted_char\n",
    "        else:\n",
    "            encrypted_text+=char\n",
    "    return encrypted_text\n",
    "\n",
    "def main():\n",
    "    plain_text = input(\"Enter the text to be encrypted: \")\n",
    "    shift = int(input(\"Enter the shift number (for example: 3): \"))\n",
    "    encrypted_text = caesar_cipher(plain_text, shift)\n",
    "    print(f\"Enrypted text: {Fore.GREEN}{encrypted_text}{Fore.RESET}\")\n",
    "\n",
    "if __name__ == \"__main__\":\n",
    "    main()"
   ]
  }
 ],
 "metadata": {
  "kernelspec": {
   "display_name": "Python 3 (ipykernel)",
   "language": "python",
   "name": "python3"
  },
  "language_info": {
   "codemirror_mode": {
    "name": "ipython",
    "version": 3
   },
   "file_extension": ".py",
   "mimetype": "text/x-python",
   "name": "python",
   "nbconvert_exporter": "python",
   "pygments_lexer": "ipython3",
   "version": "3.12.3"
  }
 },
 "nbformat": 4,
 "nbformat_minor": 5
}
